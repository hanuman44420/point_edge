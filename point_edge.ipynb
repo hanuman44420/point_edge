{
  "nbformat": 4,
  "nbformat_minor": 0,
  "metadata": {
    "colab": {
      "name": "Untitled5.ipynb",
      "provenance": []
    },
    "kernelspec": {
      "name": "python3",
      "display_name": "Python 3"
    },
    "language_info": {
      "name": "python"
    }
  },
  "cells": [
    {
      "cell_type": "code",
      "execution_count": 9,
      "metadata": {
        "id": "PrkRizMwkymq"
      },
      "outputs": [],
      "source": [
        "import cv2\n",
        "import numpy as np\n",
        "\n",
        "img = cv2.imread(\"/content/drive/MyDrive/water1.jpg\")\n",
        "\n",
        "# Point Detection Mask\n",
        "\"\"\"[1  1 1]\n",
        "   [1 -8 1]\n",
        "   [1  1 1]\"\"\"\n",
        "point_mask = np.ones((3,3))\n",
        "point_mask[1,1] = -8\n",
        "\n",
        "point = cv2.filter2D(img,-1,point_mask)\n",
        "cv2.imwrite('point.jpg',point)\n",
        "\n",
        "# Edge Detection Masks\n",
        "# Horizontal Mask\n",
        "\"\"\" [-1-1-1]\n",
        "    [2 2 2]\n",
        "    [-1-1-1] \"\"\"\n",
        "edge_mask1 = -1*np.ones((3,3))\n",
        "for i in range(3):\n",
        "    edge_mask1[1,i] = 2\n",
        "edge1 = cv2.filter2D(img,-1,edge_mask1)\n",
        "cv2.imwrite('horizontalEdge.jpg',edge1)\n",
        "\n",
        "# Vertical Mask\n",
        "\"\"\"[-1 2 -1]\n",
        "   [-1 2 -1]\n",
        "   [-1 2 -1]\"\"\"\n",
        "edge_mask2 = -1*np.ones((3,3))\n",
        "for i in range(3):\n",
        "    edge_mask2[i,1] = 2   \n",
        "edge2 = cv2.filter2D(img,-1,edge_mask2)\n",
        "cv2.imwrite('verticalEdge.jpg',edge2)\n",
        "\n",
        "# Diagonal Mask\n",
        "\"\"\"[-1 -1 2]\n",
        "   [-1 2 -1]\n",
        "   [2 -1 -1]\"\"\"\n",
        "edge_mask3 = -1*np.ones((3,3))\n",
        "for i in range(3):\n",
        "    edge_mask3[i,i] = 2\n",
        "edge3 = cv2.filter2D(img,-1,edge_mask3)\n",
        "cv2.imwrite('diagonalEdge.jpg',edge3)\n",
        "cv2.destroyAllWindows()"
      ]
    }
  ]
}